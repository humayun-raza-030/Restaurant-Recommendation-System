{
 "cells": [
  {
   "cell_type": "code",
   "execution_count": 1,
   "id": "202bbe6b-c90d-46af-bbe5-21855ea02cdd",
   "metadata": {
    "colab": {
     "base_uri": "https://localhost:8080/"
    },
    "id": "202bbe6b-c90d-46af-bbe5-21855ea02cdd",
    "outputId": "9521f61a-4c4a-47f0-8624-c429286292b2"
   },
   "outputs": [
    {
     "name": "stderr",
     "output_type": "stream",
     "text": [
      "Unable to create process using 'C:\\Users\\Humayun Raza\\anaconda3\\python.exe \"C:\\Users\\Humayun Raza\\anaconda3\\Scripts\\pip-script.py\" install pandas numpy matplotlib seaborn scikit-learn wordcloud selenium'\n",
      "Unable to create process using 'C:\\Users\\Humayun Raza\\anaconda3\\python.exe \"C:\\Users\\Humayun Raza\\anaconda3\\Scripts\\pip-script.py\" install webdriver-manager'\n"
     ]
    }
   ],
   "source": [
    "!pip install pandas numpy matplotlib seaborn scikit-learn wordcloud selenium\n",
    "!pip install webdriver-manager"
   ]
  },
  {
   "cell_type": "code",
   "execution_count": 37,
   "id": "f3dfa9f9-dec5-4e1c-8ee5-9d5f23cdb5cf",
   "metadata": {
    "colab": {
     "base_uri": "https://localhost:8080/"
    },
    "id": "f3dfa9f9-dec5-4e1c-8ee5-9d5f23cdb5cf",
    "outputId": "43ccec75-a229-483d-c11d-a736095699e4"
   },
   "outputs": [
    {
     "name": "stderr",
     "output_type": "stream",
     "text": [
      "[nltk_data] Downloading package vader_lexicon to /root/nltk_data...\n",
      "[nltk_data]   Package vader_lexicon is already up-to-date!\n"
     ]
    }
   ],
   "source": [
    "import pandas as pd\n",
    "import numpy as np\n",
    "import matplotlib.pyplot as plt\n",
    "import seaborn as sns\n",
    "from sklearn.feature_extraction.text import TfidfVectorizer\n",
    "from sklearn.metrics.pairwise import cosine_similarity\n",
    "from sklearn.preprocessing import LabelEncoder, MinMaxScaler\n",
    "from wordcloud import WordCloud\n",
    "\n",
    "from selenium import webdriver\n",
    "from bs4 import BeautifulSoup\n",
    "import time\n",
    "from selenium.webdriver.common.by import By\n",
    "from selenium.webdriver import ActionChains\n",
    "from selenium.webdriver.common.actions.wheel_input import ScrollOrigin\n",
    "from selenium.common.exceptions import ElementClickInterceptedException, ElementNotInteractableException, StaleElementReferenceException\n",
    "\n",
    "\n",
    "import nltk\n",
    "nltk.download('vader_lexicon')\n",
    "from geopy.geocoders import Nominatim\n",
    "from geopy.distance import geodesic\n",
    "from nltk.sentiment.vader import SentimentIntensityAnalyzer\n",
    "from sklearn.metrics import accuracy_score, precision_score, recall_score, f1_score\n",
    "from sklearn.metrics import mean_squared_error, mean_absolute_error, r2_score\n",
    "from sklearn.metrics import silhouette_score"
   ]
  },
  {
   "cell_type": "markdown",
   "id": "9907db0f-5e90-4f3c-979b-8e67e6a8b266",
   "metadata": {
    "id": "9907db0f-5e90-4f3c-979b-8e67e6a8b266"
   },
   "source": [
    "## Web Scrapping"
   ]
  },
  {
   "cell_type": "code",
   "execution_count": 42,
   "id": "c175a7fa-c048-4b84-bbb5-5371a24e0434",
   "metadata": {
    "colab": {
     "base_uri": "https://localhost:8080/",
     "height": 681
    },
    "id": "c175a7fa-c048-4b84-bbb5-5371a24e0434",
    "outputId": "94fb17e1-fc1f-4e0f-85b9-da40e89a60f5"
   },
   "outputs": [
    {
     "ename": "WebDriverException",
     "evalue": "Message: unknown error: cannot find Chrome binary\nStacktrace:\n#0 0x58feaf5344e3 <unknown>\n#1 0x58feaf263c76 <unknown>\n#2 0x58feaf28a757 <unknown>\n#3 0x58feaf289029 <unknown>\n#4 0x58feaf2c7ccc <unknown>\n#5 0x58feaf2c747f <unknown>\n#6 0x58feaf2bede3 <unknown>\n#7 0x58feaf2942dd <unknown>\n#8 0x58feaf29534e <unknown>\n#9 0x58feaf4f43e4 <unknown>\n#10 0x58feaf4f83d7 <unknown>\n#11 0x58feaf502b20 <unknown>\n#12 0x58feaf4f9023 <unknown>\n#13 0x58feaf4c71aa <unknown>\n#14 0x58feaf51d6b8 <unknown>\n#15 0x58feaf51d847 <unknown>\n#16 0x58feaf52d243 <unknown>\n#17 0x7eff974b5ac3 <unknown>\n",
     "output_type": "error",
     "traceback": [
      "\u001b[0;31m---------------------------------------------------------------------------\u001b[0m",
      "\u001b[0;31mWebDriverException\u001b[0m                        Traceback (most recent call last)",
      "\u001b[0;32m<ipython-input-42-61d09f95771d>\u001b[0m in \u001b[0;36m<cell line: 16>\u001b[0;34m()\u001b[0m\n\u001b[1;32m     14\u001b[0m \u001b[0;34m\u001b[0m\u001b[0m\n\u001b[1;32m     15\u001b[0m \u001b[0;34m\u001b[0m\u001b[0m\n\u001b[0;32m---> 16\u001b[0;31m \u001b[0mbrowser\u001b[0m \u001b[0;34m=\u001b[0m \u001b[0mwebdriver\u001b[0m\u001b[0;34m.\u001b[0m\u001b[0mChrome\u001b[0m\u001b[0;34m(\u001b[0m\u001b[0mservice\u001b[0m\u001b[0;34m=\u001b[0m\u001b[0mService\u001b[0m\u001b[0;34m(\u001b[0m\u001b[0mChromeDriverManager\u001b[0m\u001b[0;34m(\u001b[0m\u001b[0;34m)\u001b[0m\u001b[0;34m.\u001b[0m\u001b[0minstall\u001b[0m\u001b[0;34m(\u001b[0m\u001b[0;34m)\u001b[0m\u001b[0;34m)\u001b[0m\u001b[0;34m)\u001b[0m\u001b[0;34m\u001b[0m\u001b[0;34m\u001b[0m\u001b[0m\n\u001b[0m\u001b[1;32m     17\u001b[0m \u001b[0mrecord\u001b[0m \u001b[0;34m=\u001b[0m \u001b[0;34m[\u001b[0m\u001b[0;34m]\u001b[0m\u001b[0;34m\u001b[0m\u001b[0;34m\u001b[0m\u001b[0m\n\u001b[1;32m     18\u001b[0m \u001b[0me\u001b[0m \u001b[0;34m=\u001b[0m \u001b[0;34m[\u001b[0m\u001b[0;34m]\u001b[0m  \u001b[0;31m# Initialize the list to track unique names\u001b[0m\u001b[0;34m\u001b[0m\u001b[0;34m\u001b[0m\u001b[0m\n",
      "\u001b[0;32m/usr/local/lib/python3.10/dist-packages/selenium/webdriver/chrome/webdriver.py\u001b[0m in \u001b[0;36m__init__\u001b[0;34m(self, options, service, keep_alive)\u001b[0m\n\u001b[1;32m     43\u001b[0m         \u001b[0moptions\u001b[0m \u001b[0;34m=\u001b[0m \u001b[0moptions\u001b[0m \u001b[0;32mif\u001b[0m \u001b[0moptions\u001b[0m \u001b[0;32melse\u001b[0m \u001b[0mOptions\u001b[0m\u001b[0;34m(\u001b[0m\u001b[0;34m)\u001b[0m\u001b[0;34m\u001b[0m\u001b[0;34m\u001b[0m\u001b[0m\n\u001b[1;32m     44\u001b[0m \u001b[0;34m\u001b[0m\u001b[0m\n\u001b[0;32m---> 45\u001b[0;31m         super().__init__(\n\u001b[0m\u001b[1;32m     46\u001b[0m             \u001b[0mbrowser_name\u001b[0m\u001b[0;34m=\u001b[0m\u001b[0mDesiredCapabilities\u001b[0m\u001b[0;34m.\u001b[0m\u001b[0mCHROME\u001b[0m\u001b[0;34m[\u001b[0m\u001b[0;34m\"browserName\"\u001b[0m\u001b[0;34m]\u001b[0m\u001b[0;34m,\u001b[0m\u001b[0;34m\u001b[0m\u001b[0;34m\u001b[0m\u001b[0m\n\u001b[1;32m     47\u001b[0m             \u001b[0mvendor_prefix\u001b[0m\u001b[0;34m=\u001b[0m\u001b[0;34m\"goog\"\u001b[0m\u001b[0;34m,\u001b[0m\u001b[0;34m\u001b[0m\u001b[0;34m\u001b[0m\u001b[0m\n",
      "\u001b[0;32m/usr/local/lib/python3.10/dist-packages/selenium/webdriver/chromium/webdriver.py\u001b[0m in \u001b[0;36m__init__\u001b[0;34m(self, browser_name, vendor_prefix, options, service, keep_alive)\u001b[0m\n\u001b[1;32m     64\u001b[0m \u001b[0;34m\u001b[0m\u001b[0m\n\u001b[1;32m     65\u001b[0m         \u001b[0;32mtry\u001b[0m\u001b[0;34m:\u001b[0m\u001b[0;34m\u001b[0m\u001b[0;34m\u001b[0m\u001b[0m\n\u001b[0;32m---> 66\u001b[0;31m             \u001b[0msuper\u001b[0m\u001b[0;34m(\u001b[0m\u001b[0;34m)\u001b[0m\u001b[0;34m.\u001b[0m\u001b[0m__init__\u001b[0m\u001b[0;34m(\u001b[0m\u001b[0mcommand_executor\u001b[0m\u001b[0;34m=\u001b[0m\u001b[0mexecutor\u001b[0m\u001b[0;34m,\u001b[0m \u001b[0moptions\u001b[0m\u001b[0;34m=\u001b[0m\u001b[0moptions\u001b[0m\u001b[0;34m)\u001b[0m\u001b[0;34m\u001b[0m\u001b[0;34m\u001b[0m\u001b[0m\n\u001b[0m\u001b[1;32m     67\u001b[0m         \u001b[0;32mexcept\u001b[0m \u001b[0mException\u001b[0m\u001b[0;34m:\u001b[0m\u001b[0;34m\u001b[0m\u001b[0;34m\u001b[0m\u001b[0m\n\u001b[1;32m     68\u001b[0m             \u001b[0mself\u001b[0m\u001b[0;34m.\u001b[0m\u001b[0mquit\u001b[0m\u001b[0;34m(\u001b[0m\u001b[0;34m)\u001b[0m\u001b[0;34m\u001b[0m\u001b[0;34m\u001b[0m\u001b[0m\n",
      "\u001b[0;32m/usr/local/lib/python3.10/dist-packages/selenium/webdriver/remote/webdriver.py\u001b[0m in \u001b[0;36m__init__\u001b[0;34m(self, command_executor, keep_alive, file_detector, options, locator_converter, web_element_cls, client_config)\u001b[0m\n\u001b[1;32m    239\u001b[0m         \u001b[0mself\u001b[0m\u001b[0;34m.\u001b[0m\u001b[0m_authenticator_id\u001b[0m \u001b[0;34m=\u001b[0m \u001b[0;32mNone\u001b[0m\u001b[0;34m\u001b[0m\u001b[0;34m\u001b[0m\u001b[0m\n\u001b[1;32m    240\u001b[0m         \u001b[0mself\u001b[0m\u001b[0;34m.\u001b[0m\u001b[0mstart_client\u001b[0m\u001b[0;34m(\u001b[0m\u001b[0;34m)\u001b[0m\u001b[0;34m\u001b[0m\u001b[0;34m\u001b[0m\u001b[0m\n\u001b[0;32m--> 241\u001b[0;31m         \u001b[0mself\u001b[0m\u001b[0;34m.\u001b[0m\u001b[0mstart_session\u001b[0m\u001b[0;34m(\u001b[0m\u001b[0mcapabilities\u001b[0m\u001b[0;34m)\u001b[0m\u001b[0;34m\u001b[0m\u001b[0;34m\u001b[0m\u001b[0m\n\u001b[0m\u001b[1;32m    242\u001b[0m         \u001b[0mself\u001b[0m\u001b[0;34m.\u001b[0m\u001b[0m_fedcm\u001b[0m \u001b[0;34m=\u001b[0m \u001b[0mFedCM\u001b[0m\u001b[0;34m(\u001b[0m\u001b[0mself\u001b[0m\u001b[0;34m)\u001b[0m\u001b[0;34m\u001b[0m\u001b[0;34m\u001b[0m\u001b[0m\n\u001b[1;32m    243\u001b[0m \u001b[0;34m\u001b[0m\u001b[0m\n",
      "\u001b[0;32m/usr/local/lib/python3.10/dist-packages/selenium/webdriver/remote/webdriver.py\u001b[0m in \u001b[0;36mstart_session\u001b[0;34m(self, capabilities)\u001b[0m\n\u001b[1;32m    327\u001b[0m \u001b[0;34m\u001b[0m\u001b[0m\n\u001b[1;32m    328\u001b[0m         \u001b[0mcaps\u001b[0m \u001b[0;34m=\u001b[0m \u001b[0m_create_caps\u001b[0m\u001b[0;34m(\u001b[0m\u001b[0mcapabilities\u001b[0m\u001b[0;34m)\u001b[0m\u001b[0;34m\u001b[0m\u001b[0;34m\u001b[0m\u001b[0m\n\u001b[0;32m--> 329\u001b[0;31m         \u001b[0mresponse\u001b[0m \u001b[0;34m=\u001b[0m \u001b[0mself\u001b[0m\u001b[0;34m.\u001b[0m\u001b[0mexecute\u001b[0m\u001b[0;34m(\u001b[0m\u001b[0mCommand\u001b[0m\u001b[0;34m.\u001b[0m\u001b[0mNEW_SESSION\u001b[0m\u001b[0;34m,\u001b[0m \u001b[0mcaps\u001b[0m\u001b[0;34m)\u001b[0m\u001b[0;34m[\u001b[0m\u001b[0;34m\"value\"\u001b[0m\u001b[0;34m]\u001b[0m\u001b[0;34m\u001b[0m\u001b[0;34m\u001b[0m\u001b[0m\n\u001b[0m\u001b[1;32m    330\u001b[0m         \u001b[0mself\u001b[0m\u001b[0;34m.\u001b[0m\u001b[0msession_id\u001b[0m \u001b[0;34m=\u001b[0m \u001b[0mresponse\u001b[0m\u001b[0;34m.\u001b[0m\u001b[0mget\u001b[0m\u001b[0;34m(\u001b[0m\u001b[0;34m\"sessionId\"\u001b[0m\u001b[0;34m)\u001b[0m\u001b[0;34m\u001b[0m\u001b[0;34m\u001b[0m\u001b[0m\n\u001b[1;32m    331\u001b[0m         \u001b[0mself\u001b[0m\u001b[0;34m.\u001b[0m\u001b[0mcaps\u001b[0m \u001b[0;34m=\u001b[0m \u001b[0mresponse\u001b[0m\u001b[0;34m.\u001b[0m\u001b[0mget\u001b[0m\u001b[0;34m(\u001b[0m\u001b[0;34m\"capabilities\"\u001b[0m\u001b[0;34m)\u001b[0m\u001b[0;34m\u001b[0m\u001b[0;34m\u001b[0m\u001b[0m\n",
      "\u001b[0;32m/usr/local/lib/python3.10/dist-packages/selenium/webdriver/remote/webdriver.py\u001b[0m in \u001b[0;36mexecute\u001b[0;34m(self, driver_command, params)\u001b[0m\n\u001b[1;32m    382\u001b[0m         \u001b[0mresponse\u001b[0m \u001b[0;34m=\u001b[0m \u001b[0mself\u001b[0m\u001b[0;34m.\u001b[0m\u001b[0mcommand_executor\u001b[0m\u001b[0;34m.\u001b[0m\u001b[0mexecute\u001b[0m\u001b[0;34m(\u001b[0m\u001b[0mdriver_command\u001b[0m\u001b[0;34m,\u001b[0m \u001b[0mparams\u001b[0m\u001b[0;34m)\u001b[0m\u001b[0;34m\u001b[0m\u001b[0;34m\u001b[0m\u001b[0m\n\u001b[1;32m    383\u001b[0m         \u001b[0;32mif\u001b[0m \u001b[0mresponse\u001b[0m\u001b[0;34m:\u001b[0m\u001b[0;34m\u001b[0m\u001b[0;34m\u001b[0m\u001b[0m\n\u001b[0;32m--> 384\u001b[0;31m             \u001b[0mself\u001b[0m\u001b[0;34m.\u001b[0m\u001b[0merror_handler\u001b[0m\u001b[0;34m.\u001b[0m\u001b[0mcheck_response\u001b[0m\u001b[0;34m(\u001b[0m\u001b[0mresponse\u001b[0m\u001b[0;34m)\u001b[0m\u001b[0;34m\u001b[0m\u001b[0;34m\u001b[0m\u001b[0m\n\u001b[0m\u001b[1;32m    385\u001b[0m             \u001b[0mresponse\u001b[0m\u001b[0;34m[\u001b[0m\u001b[0;34m\"value\"\u001b[0m\u001b[0;34m]\u001b[0m \u001b[0;34m=\u001b[0m \u001b[0mself\u001b[0m\u001b[0;34m.\u001b[0m\u001b[0m_unwrap_value\u001b[0m\u001b[0;34m(\u001b[0m\u001b[0mresponse\u001b[0m\u001b[0;34m.\u001b[0m\u001b[0mget\u001b[0m\u001b[0;34m(\u001b[0m\u001b[0;34m\"value\"\u001b[0m\u001b[0;34m,\u001b[0m \u001b[0;32mNone\u001b[0m\u001b[0;34m)\u001b[0m\u001b[0;34m)\u001b[0m\u001b[0;34m\u001b[0m\u001b[0;34m\u001b[0m\u001b[0m\n\u001b[1;32m    386\u001b[0m             \u001b[0;32mreturn\u001b[0m \u001b[0mresponse\u001b[0m\u001b[0;34m\u001b[0m\u001b[0;34m\u001b[0m\u001b[0m\n",
      "\u001b[0;32m/usr/local/lib/python3.10/dist-packages/selenium/webdriver/remote/errorhandler.py\u001b[0m in \u001b[0;36mcheck_response\u001b[0;34m(self, response)\u001b[0m\n\u001b[1;32m    230\u001b[0m                 \u001b[0malert_text\u001b[0m \u001b[0;34m=\u001b[0m \u001b[0mvalue\u001b[0m\u001b[0;34m[\u001b[0m\u001b[0;34m\"alert\"\u001b[0m\u001b[0;34m]\u001b[0m\u001b[0;34m.\u001b[0m\u001b[0mget\u001b[0m\u001b[0;34m(\u001b[0m\u001b[0;34m\"text\"\u001b[0m\u001b[0;34m)\u001b[0m\u001b[0;34m\u001b[0m\u001b[0;34m\u001b[0m\u001b[0m\n\u001b[1;32m    231\u001b[0m             \u001b[0;32mraise\u001b[0m \u001b[0mexception_class\u001b[0m\u001b[0;34m(\u001b[0m\u001b[0mmessage\u001b[0m\u001b[0;34m,\u001b[0m \u001b[0mscreen\u001b[0m\u001b[0;34m,\u001b[0m \u001b[0mstacktrace\u001b[0m\u001b[0;34m,\u001b[0m \u001b[0malert_text\u001b[0m\u001b[0;34m)\u001b[0m  \u001b[0;31m# type: ignore[call-arg]  # mypy is not smart enough here\u001b[0m\u001b[0;34m\u001b[0m\u001b[0;34m\u001b[0m\u001b[0m\n\u001b[0;32m--> 232\u001b[0;31m         \u001b[0;32mraise\u001b[0m \u001b[0mexception_class\u001b[0m\u001b[0;34m(\u001b[0m\u001b[0mmessage\u001b[0m\u001b[0;34m,\u001b[0m \u001b[0mscreen\u001b[0m\u001b[0;34m,\u001b[0m \u001b[0mstacktrace\u001b[0m\u001b[0;34m)\u001b[0m\u001b[0;34m\u001b[0m\u001b[0;34m\u001b[0m\u001b[0m\n\u001b[0m",
      "\u001b[0;31mWebDriverException\u001b[0m: Message: unknown error: cannot find Chrome binary\nStacktrace:\n#0 0x58feaf5344e3 <unknown>\n#1 0x58feaf263c76 <unknown>\n#2 0x58feaf28a757 <unknown>\n#3 0x58feaf289029 <unknown>\n#4 0x58feaf2c7ccc <unknown>\n#5 0x58feaf2c747f <unknown>\n#6 0x58feaf2bede3 <unknown>\n#7 0x58feaf2942dd <unknown>\n#8 0x58feaf29534e <unknown>\n#9 0x58feaf4f43e4 <unknown>\n#10 0x58feaf4f83d7 <unknown>\n#11 0x58feaf502b20 <unknown>\n#12 0x58feaf4f9023 <unknown>\n#13 0x58feaf4c71aa <unknown>\n#14 0x58feaf51d6b8 <unknown>\n#15 0x58feaf51d847 <unknown>\n#16 0x58feaf52d243 <unknown>\n#17 0x7eff974b5ac3 <unknown>\n"
     ]
    }
   ],
   "source": [
    "from selenium import webdriver\n",
    "from bs4 import BeautifulSoup\n",
    "import time\n",
    "import pandas as pd\n",
    "from selenium.webdriver.common.by import By\n",
    "from selenium.webdriver import ActionChains\n",
    "from selenium.webdriver.chrome.service import Service\n",
    "from webdriver_manager.chrome import ChromeDriverManager\n",
    "from selenium.webdriver.common.actions.wheel_input import ScrollOrigin\n",
    "from selenium.common.exceptions import ElementClickInterceptedException, ElementNotInteractableException, StaleElementReferenceException\n",
    "\n",
    "filename = \"data\"\n",
    "link = \"https://www.google.com/maps/search/fast+food+in+Lahore/@31.4733143,74.213001,13z/data=!3m1!4b1?entry=ttu&g_ep=EgoyMDI0MTAyNy4wIKXMDSoASAFQAw%3D%3D\"\n",
    "\n",
    "\n",
    "browser = webdriver.Chrome(service=Service(ChromeDriverManager().install()))\n",
    "record = []\n",
    "e = []  # Initialize the list to track unique names\n",
    "\n",
    "def Selenium_extractor():\n",
    "    action = ActionChains(browser)\n",
    "    max_scroll_attempts = 50  # Maximum number of scroll attempts\n",
    "    scroll_attempts = 0\n",
    "    last_count = 0\n",
    "    no_change_count = 0\n",
    "\n",
    "    while scroll_attempts < max_scroll_attempts:\n",
    "        a = browser.find_elements(By.CLASS_NAME, \"hfpxzc\")\n",
    "        print(f\"Number of results found so far: {len(a)}\")\n",
    "\n",
    "        if len(a) >= 1000 or no_change_count >= 10:\n",
    "            break\n",
    "\n",
    "        scroll_origin = ScrollOrigin.from_element(a[-1])\n",
    "        action.scroll_from_origin(scroll_origin, 0, 1000).perform()\n",
    "        time.sleep(2)\n",
    "        scroll_attempts += 1\n",
    "\n",
    "        if len(a) == last_count:\n",
    "            no_change_count += 1\n",
    "        else:\n",
    "            no_change_count = 0\n",
    "\n",
    "        last_count = len(a)\n",
    "\n",
    "    processed_count = 0\n",
    "    for i in range(min(20, len(a))):  # Process up to 20 results\n",
    "        if processed_count >= 10:  # Stop after processing 10 results\n",
    "            break\n",
    "\n",
    "        scroll_origin = ScrollOrigin.from_element(a[i])\n",
    "        action.scroll_from_origin(scroll_origin, 0, 100).perform()\n",
    "        action.move_to_element(a[i]).perform()\n",
    "\n",
    "        try:\n",
    "            a[i].click()\n",
    "        except ElementClickInterceptedException:\n",
    "            browser.execute_script(\"arguments[0].click();\", a[i])\n",
    "        except (ElementNotInteractableException, StaleElementReferenceException) as ex:\n",
    "            print(f\"Skipping element {i} due to error: {ex}\")\n",
    "            continue\n",
    "\n",
    "        time.sleep(2)\n",
    "        source = browser.page_source\n",
    "        soup = BeautifulSoup(source, 'html.parser')\n",
    "\n",
    "        try:\n",
    "            # Extract restaurant name\n",
    "            Name_Html = soup.findAll('h1', {\"class\": \"DUwDvf lfPIob\"})\n",
    "            name = Name_Html[0].text if Name_Html else \"Name not found\"\n",
    "\n",
    "            if name not in e:\n",
    "                e.append(name)  # Track names to avoid duplicates\n",
    "\n",
    "                divs = soup.findAll('div', {\"class\": \"Io6YTe fontBodyMedium kR99db\"})\n",
    "                phone = \"Phone not available\"\n",
    "                for j in range(len(divs)):\n",
    "                    if str(divs[j].text).startswith(\"+\"):\n",
    "                        phone = divs[j].text\n",
    "                        break\n",
    "\n",
    "                address = divs[0].text if divs else \"Address not available\"\n",
    "\n",
    "                website = \"Website not available\"\n",
    "                for z in range(len(divs)):\n",
    "                    if \".\" in divs[z].text[-4:]:\n",
    "                        website = divs[z].text\n",
    "                        break\n",
    "\n",
    "                # Extract reviews\n",
    "                reviews = []\n",
    "                review_names = soup.findAll('div', {\"class\": \"d4r55\"})  # Reviewer names\n",
    "                review_texts = soup.findAll('div', {\"class\": \"wiI7pd\"})  # Review texts\n",
    "\n",
    "                for rev_name, rev_text in zip(review_names, review_texts):\n",
    "                    reviewer = rev_name.text.strip()\n",
    "                    review_content = rev_text.text.strip()\n",
    "                    reviews.append(f\"{reviewer}: {review_content}\")\n",
    "\n",
    "                # Append the extracted data to the record list\n",
    "                record.append((name, phone, address, website, reviews))\n",
    "                processed_count += 1\n",
    "                print(f\"Processed record {processed_count}: {name}\")\n",
    "\n",
    "        except Exception as ex:\n",
    "            print(f\"Error: {ex}\")\n",
    "            continue\n",
    "\n",
    "    return processed_count  # Return the number of records processed\n",
    "\n",
    "total_records = 0\n",
    "for iteration in range(5):  # Reduce to 5 iterations for testing\n",
    "    browser.get(link)\n",
    "    time.sleep(10)\n",
    "    records_processed = Selenium_extractor()\n",
    "    total_records += records_processed\n",
    "    print(f\"Iteration {iteration + 1} completed. Total records: {total_records}\")\n",
    "    time.sleep(1)\n",
    "\n",
    "    if total_records >= 50:  # Stop if we've collected 50 or more records\n",
    "        break\n",
    "\n",
    "df = pd.DataFrame(record, columns=['Name', 'Phone number', 'Address', 'Website', 'Reviews'])\n",
    "df.to_csv(f\"{filename}.csv\", index=False, encoding='utf-8')\n",
    "\n",
    "browser.quit()\n",
    "print(f'Data saved to {filename}.csv. Total records: {total_records}')"
   ]
  },
  {
   "cell_type": "markdown",
   "id": "40121028-8a22-44e7-a46e-086c508621ac",
   "metadata": {
    "id": "40121028-8a22-44e7-a46e-086c508621ac"
   },
   "source": [
    "## Load and Preprocessing"
   ]
  },
  {
   "cell_type": "code",
   "execution_count": null,
   "id": "cc600125-e020-4f24-b038-f2c6510f2140",
   "metadata": {
    "id": "cc600125-e020-4f24-b038-f2c6510f2140"
   },
   "outputs": [],
   "source": [
    "# Load the dataset\n",
    "df = pd.read_csv('/content/reviewsLocs.csv')\n",
    "df.head()"
   ]
  },
  {
   "cell_type": "code",
   "execution_count": null,
   "id": "7a28bc5e-6ea7-46d1-9733-7c19c4fe9e33",
   "metadata": {
    "id": "7a28bc5e-6ea7-46d1-9733-7c19c4fe9e33"
   },
   "outputs": [],
   "source": [
    "# Remove duplicates\n",
    "df.drop_duplicates(inplace=True)\n",
    "df.shape"
   ]
  },
  {
   "cell_type": "code",
   "execution_count": null,
   "id": "f5a6315d-42f2-43a9-a0fb-d88c43b31d28",
   "metadata": {
    "id": "f5a6315d-42f2-43a9-a0fb-d88c43b31d28"
   },
   "outputs": [],
   "source": [
    "# Replace invalid cuisine types with 'Unknown'\n",
    "df['FoodType'] = df['FoodType'].replace([\n",
    "    '0 min', '21195 min', '21225 min', '21175 min',\n",
    "    '21190 min', '21205 min', '21220 min', '21170 min',\n",
    "    '21185 min', '21155 min'\n",
    "], 'Unknown')\n",
    "\n",
    "df.dropna(subset=['CompleteStoreName', 'FoodType'], inplace=True)\n",
    "df.info()"
   ]
  },
  {
   "cell_type": "code",
   "execution_count": null,
   "id": "6b1d26df-a558-456c-b0de-2c12493337b3",
   "metadata": {
    "id": "6b1d26df-a558-456c-b0de-2c12493337b3"
   },
   "outputs": [],
   "source": [
    "# Convert columns to appropriate types\n",
    "df['text'] = df['text'].astype(str)\n",
    "df['FoodType'] = df['FoodType'].astype(str)\n",
    "df['Location'] = df['Location'].astype(str)\n",
    "df.dtypes.head()"
   ]
  },
  {
   "cell_type": "code",
   "execution_count": null,
   "id": "zeTEr0_3-1kC",
   "metadata": {
    "id": "zeTEr0_3-1kC"
   },
   "outputs": [],
   "source": [
    "data = pd.read_csv(\"/content/reviewsLocs.csv\")\n",
    "\n",
    "if 'Location' not in data.columns or 'CompleteStoreName' not in data.columns:\n",
    "    print(\"The dataset must contain 'Location' and 'CompleteStoreName' columns.\")\n",
    "    exit()\n",
    "\n",
    "unique_towns = data['Location'].unique()\n",
    "\n",
    "print(f\"Total unique towns with restaurant reviews: {len(unique_towns)}\")\n",
    "\n",
    "print(\"\\nUnique towns and their restaurants:\")\n",
    "for town in unique_towns:\n",
    "    restaurants = data[data['Location'] == town]['CompleteStoreName'].unique()\n",
    "    print(f\"\\nTown: {town}\")\n",
    "    print(f\"Total Restaurants: {len(restaurants)}\")\n",
    "    print(f\"Restaurants: {', '.join(restaurants)}\")\n"
   ]
  },
  {
   "cell_type": "markdown",
   "id": "0e44f296-0900-4953-8bd6-2eb5654ed375",
   "metadata": {
    "id": "0e44f296-0900-4953-8bd6-2eb5654ed375"
   },
   "source": [
    "## Data Wrangling and Transformation"
   ]
  },
  {
   "cell_type": "code",
   "execution_count": null,
   "id": "a852e333-5fe3-4701-8361-b5d26abf9152",
   "metadata": {
    "id": "a852e333-5fe3-4701-8361-b5d26abf9152"
   },
   "outputs": [],
   "source": [
    "# Encode categorical variables\n",
    "le = LabelEncoder()\n",
    "df['FoodType_Encoded'] = le.fit_transform(df['FoodType'])\n",
    "\n",
    "# Normalize the 'AverageRating' column\n",
    "scaler = MinMaxScaler()\n",
    "df['AverageRating_Normalized'] = scaler.fit_transform(df[['AverageRating']])\n",
    "print(\"\\nNormalized Ratings Sample:\")\n",
    "print(df[['AverageRating', 'AverageRating_Normalized']].head())"
   ]
  },
  {
   "cell_type": "code",
   "execution_count": null,
   "id": "e45bc72d-b91b-4e56-8aae-590971895646",
   "metadata": {
    "id": "e45bc72d-b91b-4e56-8aae-590971895646"
   },
   "outputs": [],
   "source": [
    "print(\"\\nCleaned Dataset:\")\n",
    "df"
   ]
  },
  {
   "cell_type": "code",
   "execution_count": null,
   "id": "d2d44258-f2d4-44fe-8127-bc7049701d20",
   "metadata": {
    "id": "d2d44258-f2d4-44fe-8127-bc7049701d20"
   },
   "outputs": [],
   "source": [
    "# Group data by restaurant and aggregate necessary fields\n",
    "restaurant_summary = df.groupby('CompleteStoreName').agg({\n",
    "    'FoodType': lambda x: x.mode().iloc[0] if not x.mode().empty else 'Unknown',\n",
    "    'AverageRating': 'mean',\n",
    "    'Reviewers': 'first',\n",
    "    'Location': lambda x: x.mode().iloc[0] if not x.mode().empty else 'Unknown',\n",
    "    'text': lambda x: ' '.join(x.dropna().astype(str)),\n",
    "    'overall': 'mean'\n",
    "}).reset_index()"
   ]
  },
  {
   "cell_type": "code",
   "execution_count": null,
   "id": "7d33c1dc-9d23-4691-85d2-1dc897ead44b",
   "metadata": {
    "id": "7d33c1dc-9d23-4691-85d2-1dc897ead44b"
   },
   "outputs": [],
   "source": [
    "print(\"\\nRestaurant Summary Sample:\")\n",
    "restaurant_summary.head()"
   ]
  },
  {
   "cell_type": "markdown",
   "id": "adad24e5-5133-4bb9-90a7-6b23b06a35c1",
   "metadata": {
    "id": "adad24e5-5133-4bb9-90a7-6b23b06a35c1"
   },
   "source": [
    "# Data Exploration"
   ]
  },
  {
   "cell_type": "code",
   "execution_count": null,
   "id": "5893b7ff-bd9f-4919-a3df-c45eec3ca01e",
   "metadata": {
    "id": "5893b7ff-bd9f-4919-a3df-c45eec3ca01e"
   },
   "outputs": [],
   "source": [
    "# Cuisine Distribution\n",
    "plt.figure(figsize=(12, 6))\n",
    "restaurant_summary['FoodType'].value_counts().plot(kind='bar')\n",
    "plt.title('Distribution of Restaurants by Cuisine Type')\n",
    "plt.xlabel('Cuisine Type')\n",
    "plt.ylabel('Number of Restaurants')\n",
    "plt.xticks(rotation=45, ha='right')\n",
    "plt.tight_layout()\n",
    "plt.show()"
   ]
  },
  {
   "cell_type": "code",
   "execution_count": null,
   "id": "f63bd6f2-2b66-4773-a76b-9bc3251340c7",
   "metadata": {
    "id": "f63bd6f2-2b66-4773-a76b-9bc3251340c7"
   },
   "outputs": [],
   "source": [
    "# Review Sentiment Analysis\n",
    "df['sentiment'] = df['overall'].map({1: 'Negative', 2: 'Neutral', 3: 'Neutral', 4: 'Positive', 5: 'Positive'})\n",
    "sentiment_counts = df['sentiment'].value_counts()\n",
    "plt.figure(figsize=(8, 6))\n",
    "sentiment_counts.plot(kind='pie', autopct='%1.1f%%')\n",
    "plt.title('Review Sentiment Distribution')\n",
    "plt.tight_layout()\n",
    "plt.show()"
   ]
  },
  {
   "cell_type": "code",
   "execution_count": null,
   "id": "974c0786-dd55-46d8-9997-8c02d9aca3d2",
   "metadata": {
    "id": "974c0786-dd55-46d8-9997-8c02d9aca3d2"
   },
   "outputs": [],
   "source": [
    "# Create a TF-IDF matrix for restaurant reviews\n",
    "tfidf = TfidfVectorizer(stop_words='english')\n",
    "tfidf_matrix = tfidf.fit_transform(restaurant_summary['text'].fillna(''))\n",
    "\n",
    "cosine_sim = cosine_similarity(tfidf_matrix)\n",
    "\n",
    "def get_content_recommendations(restaurant_name, top_n=5):\n",
    "    idx = restaurant_summary[restaurant_summary['CompleteStoreName'] == restaurant_name].index[0]\n",
    "    sim_scores = list(enumerate(cosine_sim[idx]))\n",
    "    sim_scores = sorted(sim_scores, key=lambda x: x[1], reverse=True)\n",
    "    top_restaurants = sim_scores[1:top_n+1]\n",
    "    return [restaurant_summary.iloc[i[0]]['CompleteStoreName'] for i in top_restaurants]"
   ]
  },
  {
   "cell_type": "code",
   "execution_count": null,
   "id": "f2d48e74-a122-426e-8e0b-5662f7de9ea2",
   "metadata": {
    "id": "f2d48e74-a122-426e-8e0b-5662f7de9ea2"
   },
   "outputs": [],
   "source": [
    "# Rating Distribution\n",
    "plt.figure(figsize=(10, 6))\n",
    "sns.histplot(restaurant_summary['AverageRating'], kde=True)\n",
    "plt.title('Distribution of Restaurant Ratings')\n",
    "plt.xlabel('Average Rating')\n",
    "plt.ylabel('Frequency')\n",
    "plt.tight_layout()\n",
    "plt.show()"
   ]
  },
  {
   "cell_type": "code",
   "execution_count": null,
   "id": "fadbb374-8fd7-487f-a5aa-394483b0eb5d",
   "metadata": {
    "id": "fadbb374-8fd7-487f-a5aa-394483b0eb5d"
   },
   "outputs": [],
   "source": [
    "# Cuisine Popularity by Top 10 Locations\n",
    "top_locations = restaurant_summary['Location'].value_counts().head(10).index\n",
    "filtered_data = restaurant_summary[restaurant_summary['Location'].isin(top_locations)]\n",
    "\n",
    "plt.figure(figsize=(12, 6))\n",
    "sns.countplot(data=filtered_data, x='Location', hue='FoodType', palette='viridis')\n",
    "\n",
    "plt.title('Cuisine Popularity by Top 10 Locations')\n",
    "plt.xlabel('Location')\n",
    "plt.ylabel('Count')\n",
    "\n",
    "plt.legend(title='Cuisine Type', loc='upper left', bbox_to_anchor=(1, 1))\n",
    "plt.xticks(rotation=45, ha='right')\n",
    "\n",
    "plt.tight_layout()\n",
    "plt.show()"
   ]
  },
  {
   "cell_type": "code",
   "execution_count": null,
   "id": "0850f7d8-eaff-4d3e-90b3-414cb41ebede",
   "metadata": {
    "id": "0850f7d8-eaff-4d3e-90b3-414cb41ebede"
   },
   "outputs": [],
   "source": [
    "# Word Cloud for Review Text\n",
    "text = ' '.join(restaurant_summary['text'])\n",
    "wordcloud = WordCloud(width=800, height=400, background_color='white').generate(text)\n",
    "\n",
    "plt.figure(figsize=(10, 6))\n",
    "plt.imshow(wordcloud, interpolation='bilinear')\n",
    "plt.axis('off')\n",
    "plt.title('Common Words in Reviews')\n",
    "plt.show()"
   ]
  },
  {
   "cell_type": "code",
   "execution_count": null,
   "id": "a0d99a6e-3823-4b8d-8ef2-71bb57096fef",
   "metadata": {
    "id": "a0d99a6e-3823-4b8d-8ef2-71bb57096fef"
   },
   "outputs": [],
   "source": [
    "# Ratings by Cuisine Type\n",
    "plt.figure(figsize=(12, 6))\n",
    "sns.boxplot(data=restaurant_summary, x='FoodType', y='AverageRating', palette='Set2')\n",
    "plt.title('Distribution of Ratings by Cuisine')\n",
    "plt.xlabel('Cuisine Type')\n",
    "plt.ylabel('Average Rating')\n",
    "plt.xticks(rotation=45, ha='right')\n",
    "plt.tight_layout()\n",
    "plt.show()"
   ]
  },
  {
   "cell_type": "code",
   "execution_count": null,
   "id": "a82e9adf-a1c6-4762-ba78-6d68a95ed721",
   "metadata": {
    "id": "a82e9adf-a1c6-4762-ba78-6d68a95ed721"
   },
   "outputs": [],
   "source": [
    "user_restaurant_ratings = df.pivot_table(\n",
    "    index='reviewerId',\n",
    "    columns='CompleteStoreName',\n",
    "    values='overall',\n",
    "    fill_value=0\n",
    ")\n",
    "\n",
    "# Function for collaborative filtering recommendations\n",
    "def get_collaborative_recommendations(restaurant_name, top_n=5):\n",
    "    restaurant_ratings = user_restaurant_ratings[restaurant_name]\n",
    "    high_rating_users = restaurant_ratings[restaurant_ratings >= 4].index\n",
    "    recommended_restaurants = []\n",
    "    for user in high_rating_users:\n",
    "        user_top_restaurants = user_restaurant_ratings.loc[user].nlargest(top_n).index.tolist()\n",
    "        recommended_restaurants.extend(user_top_restaurants)\n",
    "    recommended_restaurants = list(set(recommended_restaurants) - {restaurant_name})\n",
    "    return recommended_restaurants[:top_n]"
   ]
  },
  {
   "cell_type": "code",
   "execution_count": null,
   "id": "fba2aaba-2714-4005-8d4f-069580372d13",
   "metadata": {
    "id": "fba2aaba-2714-4005-8d4f-069580372d13"
   },
   "outputs": [],
   "source": [
    "cuisines = restaurant_summary['FoodType'].unique()\n",
    "\n",
    "for selected_cuisine in cuisines:\n",
    "    print(f\"\\nRecommended Restaurants for Cuisine: {selected_cuisine}\")\n",
    "\n",
    "    restaurants_in_cuisine = restaurant_summary[restaurant_summary['FoodType'] == selected_cuisine]\n",
    "    sample_restaurant = restaurants_in_cuisine['CompleteStoreName'].iloc[0]\n",
    "\n",
    "    # content-based recommendations\n",
    "    print(f\"\\nContent-Based Recommendations for {sample_restaurant}:\")\n",
    "    content_recommendations = get_content_recommendations(sample_restaurant)\n",
    "    for i, restaurant in enumerate(content_recommendations, 1):\n",
    "        restaurant_data = restaurant_summary[restaurant_summary['CompleteStoreName'] == restaurant].iloc[0]\n",
    "        print(f\"{i}. {restaurant} - Location: {restaurant_data['Location']}\")\n",
    "\n",
    "    # collaborative filtering recommendations\n",
    "    print(f\"\\nCollaborative Filtering Recommendations for {sample_restaurant}:\")\n",
    "    collab_recommendations = get_collaborative_recommendations(sample_restaurant)\n",
    "    for i, restaurant in enumerate(collab_recommendations, 1):\n",
    "        restaurant_data = restaurant_summary[restaurant_summary['CompleteStoreName'] == restaurant].iloc[0]\n",
    "        print(f\"{i}. {restaurant} - Location: {restaurant_data['Location']}\")\n"
   ]
  },
  {
   "cell_type": "code",
   "execution_count": null,
   "id": "bc1d9601-51c1-4b50-998d-f7438e92df18",
   "metadata": {
    "id": "bc1d9601-51c1-4b50-998d-f7438e92df18"
   },
   "outputs": [],
   "source": [
    "# Get unique town names\n",
    "unique_towns = data['Location'].unique()\n",
    "\n",
    "geolocator = Nominatim(user_agent=\"geoapi\")\n",
    "\n",
    "def get_lat_long(town):\n",
    "    try:\n",
    "        location = geolocator.geocode(f\"{town}, Lahore, Pakistan\")\n",
    "        if location:\n",
    "            return location.latitude, location.longitude\n",
    "        else:\n",
    "            return None, None\n",
    "    except Exception as e:\n",
    "        print(f\"Error fetching location for {town}: {e}\")\n",
    "        return None, None\n",
    "\n",
    "town_coordinates = {}\n",
    "\n",
    "# Fetch latitude and longitude for each town\n",
    "for town in unique_towns:\n",
    "    print(f\"Fetching coordinates for: {town}\")\n",
    "    lat, lon = get_lat_long(town)\n",
    "    town_coordinates[town] = (lat, lon)\n",
    "    time.sleep(1)  # Adding delay to avoid API rate limits\n",
    "\n",
    "coordinates_df = pd.DataFrame.from_dict(town_coordinates, orient='index', columns=['Latitude', 'Longitude'])\n",
    "coordinates_df.reset_index(inplace=True)\n",
    "coordinates_df.rename(columns={'index': 'Town'}, inplace=True)\n",
    "\n",
    "coordinates_df.to_csv(\"town_coordinates.csv\", index=False)\n",
    "\n",
    "print(\"\\nLatitude and Longitude fetched successfully!\")\n",
    "print(coordinates_df)\n"
   ]
  },
  {
   "cell_type": "code",
   "execution_count": null,
   "id": "9FlUbRFCE4Ba",
   "metadata": {
    "id": "9FlUbRFCE4Ba"
   },
   "outputs": [],
   "source": [
    "!pip install scikit-learn --upgrade\n",
    "\n",
    "import pandas as pd\n",
    "from sklearn.metrics import (\n",
    "    confusion_matrix, classification_report, mean_squared_error,\n",
    "    mean_absolute_error, r2_score, accuracy_score, precision_score,\n",
    "    recall_score, f1_score, ConfusionMatrixDisplay\n",
    ")\n",
    "from nltk.sentiment.vader import SentimentIntensityAnalyzer\n",
    "from geopy.distance import geodesic\n",
    "import numpy as np\n",
    "import seaborn as sns\n",
    "import matplotlib.pyplot as plt\n"
   ]
  },
  {
   "cell_type": "code",
   "execution_count": null,
   "id": "DebwuUiS_yKy",
   "metadata": {
    "id": "DebwuUiS_yKy"
   },
   "outputs": [],
   "source": [
    "# Fetching User's Location\n",
    "def fetch_user_location():\n",
    "    user_lat = 31.4645821  # Example: Lahore coordinates\n",
    "    user_lon = 74.2563626\n",
    "    return (user_lat, user_lon)"
   ]
  },
  {
   "cell_type": "code",
   "execution_count": null,
   "id": "UQXtqX17_1ae",
   "metadata": {
    "id": "UQXtqX17_1ae"
   },
   "outputs": [],
   "source": [
    "# Getting Closest Town Based on User's Location\n",
    "def get_closest_town(user_location, town_coordinates):\n",
    "    closest_town = None\n",
    "    min_distance = float('inf')\n",
    "\n",
    "    for _, row in town_coordinates.iterrows():\n",
    "        if pd.notna(row['Latitude']) and pd.notna(row['Longitude']):\n",
    "            town_location = (row['Latitude'], row['Longitude'])\n",
    "            distance = geodesic(user_location, town_location).kilometers\n",
    "            if distance < min_distance:\n",
    "                min_distance = distance\n",
    "                closest_town = row['Town']\n",
    "\n",
    "    return closest_town"
   ]
  },
  {
   "cell_type": "markdown",
   "id": "6ynkH8ZwKQZ_",
   "metadata": {
    "id": "6ynkH8ZwKQZ_"
   },
   "source": [
    "## Sentiment Analysis"
   ]
  },
  {
   "cell_type": "code",
   "execution_count": null,
   "id": "4EI0Zqz9ACT3",
   "metadata": {
    "id": "4EI0Zqz9ACT3"
   },
   "outputs": [],
   "source": [
    "# Sentiment Analysis and Ranking Restaurants\n",
    "def analyze_sentiment_and_rank(filtered_data):\n",
    "    sid = SentimentIntensityAnalyzer()\n",
    "\n",
    "    filtered_data['text'] = filtered_data['text'].astype(str)\n",
    "\n",
    "    # Analyze sentiment of reviews\n",
    "    filtered_data['SentimentScore'] = filtered_data['text'].apply(lambda x: sid.polarity_scores(x)['compound'])\n",
    "\n",
    "    # Ranking restaurants based on weighted score (70% rating + 30% sentiment)\n",
    "    filtered_data['WeightedScore'] = (\n",
    "        filtered_data['AverageRating'] * 0.7 + filtered_data['SentimentScore'] * 0.3\n",
    "    )\n",
    "\n",
    "    recommended_restaurants = filtered_data.drop_duplicates(subset=['CompleteStoreName'], keep='first')\n",
    "    recommended_restaurants = recommended_restaurants.sort_values(by=['WeightedScore', 'AverageRating'], ascending=False)\n",
    "\n",
    "    return recommended_restaurants"
   ]
  },
  {
   "cell_type": "code",
   "execution_count": null,
   "id": "FwOpFGd6ALFH",
   "metadata": {
    "id": "FwOpFGd6ALFH"
   },
   "outputs": [],
   "source": [
    "def filter_restaurants(data, detected_town, food_type_input):\n",
    "    filtered_data = data[\n",
    "        (data['Location'].str.contains(detected_town, case=False)) &\n",
    "        (data['FoodType'].str.contains(food_type_input, case=False))\n",
    "    ]\n",
    "\n",
    "    return filtered_data"
   ]
  },
  {
   "cell_type": "markdown",
   "id": "bkuJnrjoKYF9",
   "metadata": {
    "id": "bkuJnrjoKYF9"
   },
   "source": [
    "### Evaluating Sentiment Analysis"
   ]
  },
  {
   "cell_type": "code",
   "execution_count": null,
   "id": "DGF8CFwkAfDm",
   "metadata": {
    "id": "DGF8CFwkAfDm"
   },
   "outputs": [],
   "source": [
    "def evaluate_sentiment(filtered_data):\n",
    "    if 'SentimentTrue' in filtered_data.columns and not filtered_data.empty:\n",
    "        y_true = filtered_data['SentimentTrue']\n",
    "        y_pred = filtered_data['SentimentScore'].apply(lambda x: 'positive' if x > 0 else 'negative')\n",
    "\n",
    "        accuracy = accuracy_score(y_true, y_pred)\n",
    "        precision = precision_score(y_true, y_pred, pos_label='positive')\n",
    "        recall = recall_score(y_true, y_pred, pos_label='positive')\n",
    "        f1 = f1_score(y_true, y_pred, pos_label='positive')\n",
    "\n",
    "        print(\"\\nClassification Metrics:\")\n",
    "        print(f\"Accuracy: {accuracy:.2f}\")\n",
    "        print(f\"Precision: {precision:.2f}\")\n",
    "        print(f\"Recall: {recall:.2f}\")\n",
    "        print(f\"F1 Score: {f1:.2f}\")\n",
    "\n",
    "        ConfusionMatrixDisplay.from_predictions(y_true, y_pred)\n",
    "        plt.show()\n",
    "    else:\n",
    "        print(\"Sentiment evaluation skipped: 'SentimentTrue' column is missing or no data after filtering.\")\n"
   ]
  },
  {
   "cell_type": "code",
   "execution_count": null,
   "id": "kb4w3iu0Axhd",
   "metadata": {
    "id": "kb4w3iu0Axhd"
   },
   "outputs": [],
   "source": [
    "def evaluate_ratings(filtered_data):\n",
    "    if 'PredictedRating' in filtered_data.columns and 'AverageRating' in filtered_data.columns and not filtered_data.empty:\n",
    "        y_true = filtered_data['AverageRating']\n",
    "        y_pred = filtered_data['PredictedRating']\n",
    "\n",
    "        rmse = mean_squared_error(y_true, y_pred, squared=False)\n",
    "        mae = mean_absolute_error(y_true, y_pred)\n",
    "        r2 = r2_score(y_true, y_pred)\n",
    "\n",
    "        print(\"\\nRegression Metrics:\")\n",
    "        print(f\"RMSE: {rmse:.2f}\")\n",
    "        print(f\"MAE: {mae:.2f}\")\n",
    "        print(f\"R2 Score: {r2:.2f}\")\n",
    "    else:\n",
    "        print(\"Regression evaluation skipped: Necessary columns are missing or no data after filtering.\")\n"
   ]
  },
  {
   "cell_type": "code",
   "execution_count": null,
   "id": "0E7JwKe5A16n",
   "metadata": {
    "id": "0E7JwKe5A16n"
   },
   "outputs": [],
   "source": [
    "def plot_top_restaurants(recommended_restaurants, top_n=10):\n",
    "    top_restaurants = recommended_restaurants.head(top_n)\n",
    "\n",
    "    plt.figure(figsize=(12, 6))\n",
    "    plt.barh(top_restaurants['CompleteStoreName'], top_restaurants['WeightedScore'], color='skyblue')\n",
    "    plt.title(f\"Top {top_n} Recommended Restaurants Based on Weighted Score\")\n",
    "    plt.xlabel('Weighted Score')\n",
    "    plt.ylabel('Restaurant Name')\n",
    "    plt.gca().invert_yaxis()\n",
    "    plt.tight_layout()\n",
    "    plt.show()"
   ]
  },
  {
   "cell_type": "code",
   "execution_count": 35,
   "id": "aZ32838xA5ca",
   "metadata": {
    "colab": {
     "base_uri": "https://localhost:8080/",
     "height": 1000
    },
    "id": "aZ32838xA5ca",
    "outputId": "22547a73-1940-4f2d-d269-0847329e49fc"
   },
   "outputs": [
    {
     "name": "stdout",
     "output_type": "stream",
     "text": [
      "User's location: (31.4645821, 74.2563626)\n",
      "Enter food type: Pakistani\n"
     ]
    },
    {
     "name": "stderr",
     "output_type": "stream",
     "text": [
      "<ipython-input-30-6792198a64a2>:5: SettingWithCopyWarning: \n",
      "A value is trying to be set on a copy of a slice from a DataFrame.\n",
      "Try using .loc[row_indexer,col_indexer] = value instead\n",
      "\n",
      "See the caveats in the documentation: https://pandas.pydata.org/pandas-docs/stable/user_guide/indexing.html#returning-a-view-versus-a-copy\n",
      "  filtered_data['text'] = filtered_data['text'].astype(str)\n",
      "<ipython-input-30-6792198a64a2>:8: SettingWithCopyWarning: \n",
      "A value is trying to be set on a copy of a slice from a DataFrame.\n",
      "Try using .loc[row_indexer,col_indexer] = value instead\n",
      "\n",
      "See the caveats in the documentation: https://pandas.pydata.org/pandas-docs/stable/user_guide/indexing.html#returning-a-view-versus-a-copy\n",
      "  filtered_data['SentimentScore'] = filtered_data['text'].apply(lambda x: sid.polarity_scores(x)['compound'])\n",
      "<ipython-input-30-6792198a64a2>:11: SettingWithCopyWarning: \n",
      "A value is trying to be set on a copy of a slice from a DataFrame.\n",
      "Try using .loc[row_indexer,col_indexer] = value instead\n",
      "\n",
      "See the caveats in the documentation: https://pandas.pydata.org/pandas-docs/stable/user_guide/indexing.html#returning-a-view-versus-a-copy\n",
      "  filtered_data['WeightedScore'] = (\n"
     ]
    },
    {
     "name": "stdout",
     "output_type": "stream",
     "text": [
      "\n",
      "Classification Metrics:\n",
      "Accuracy: 0.33\n",
      "Precision: 1.00\n",
      "Recall: 0.33\n",
      "F1 Score: 0.49\n"
     ]
    },
    {
     "data": {
      "image/png": "[encoded data removed]",
      "text/plain": [
       "<Figure size 640x480 with 2 Axes>"
      ]
     },
     "metadata": {},
     "output_type": "display_data"
    },
    {
     "name": "stderr",
     "output_type": "stream",
     "text": [
      "/usr/local/lib/python3.10/dist-packages/sklearn/metrics/_regression.py:492: FutureWarning: 'squared' is deprecated in version 1.4 and will be removed in 1.6. To calculate the root mean squared error, use the function'root_mean_squared_error'.\n",
      "  # consistently return the same eager evaluated value.\n"
     ]
    },
    {
     "name": "stdout",
     "output_type": "stream",
     "text": [
      "\n",
      "Regression Metrics:\n",
      "RMSE: 0.39\n",
      "MAE: 0.39\n",
      "R2 Score: -68.76\n"
     ]
    },
    {
     "data": {
      "image/png": "[encoded data removed]",
      "text/plain": [
       "<Figure size 1200x600 with 1 Axes>"
      ]
     },
     "metadata": {},
     "output_type": "display_data"
    }
   ],
   "source": [
    "def main():\n",
    "    data = pd.read_csv(\"/content/reviewsLocs.csv\")\n",
    "\n",
    "    # Load coordinates of towns in Lahore\n",
    "    town_coordinates = pd.read_csv(\"town_coordinates.csv\")\n",
    "    town_coordinates = town_coordinates.dropna(subset=['Latitude', 'Longitude'])\n",
    "\n",
    "    # Simulate columns for testing (replace with actual data in production)\n",
    "    data['SentimentTrue'] = data['AverageRating'].apply(lambda x: 'positive' if x > 3 else 'negative')\n",
    "    data['PredictedRating'] = data['AverageRating'] + (data['AverageRating'] * 0.1)\n",
    "\n",
    "    # Fetch user's location\n",
    "    user_location = fetch_user_location()\n",
    "    print(f\"User's location: {user_location}\")\n",
    "\n",
    "    # Determine closest town\n",
    "    detected_town = get_closest_town(user_location, town_coordinates)\n",
    "\n",
    "    if not detected_town:\n",
    "        print(\"Unable to detect a nearby town. Please enter your town manually.\")\n",
    "        detected_town = input(\"Enter your town: \").strip()\n",
    "\n",
    "    # Get user input for food type\n",
    "    food_type_input = input(\"Enter food type: \").strip()\n",
    "\n",
    "\n",
    "    # Filter restaurants\n",
    "    filtered_data = filter_restaurants(data, detected_town, food_type_input)\n",
    "\n",
    "    # Analyze sentiment and rank restaurants\n",
    "    recommended_restaurants = analyze_sentiment_and_rank(filtered_data)\n",
    "\n",
    "    # Evaluate sentiment and regression\n",
    "    evaluate_sentiment(filtered_data)\n",
    "    evaluate_ratings(filtered_data)\n",
    "\n",
    "    # Plot top recommendations\n",
    "    plot_top_restaurants(recommended_restaurants)\n",
    "\n",
    "if __name__ == \"__main__\":\n",
    "    main()"
   ]
  },
  {
   "cell_type": "code",
   "execution_count": null,
   "id": "ZQ1cy8kxIqhC",
   "metadata": {
    "id": "ZQ1cy8kxIqhC"
   },
   "outputs": [],
   "source": []
  }
 ],
 "metadata": {
  "colab": {
   "provenance": []
  },
  "kernelspec": {
   "display_name": "Python 3 (ipykernel)",
   "language": "python",
   "name": "python3"
  },
  "language_info": {
   "codemirror_mode": {
    "name": "ipython",
    "version": 3
   },
   "file_extension": ".py",
   "mimetype": "text/x-python",
   "name": "python",
   "nbconvert_exporter": "python",
   "pygments_lexer": "ipython3",
   "version": "3.11.7"
  }
 },
 "nbformat": 4,
 "nbformat_minor": 5
}
